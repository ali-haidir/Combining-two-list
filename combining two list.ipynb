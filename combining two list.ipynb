{
 "cells": [
  {
   "cell_type": "markdown",
   "metadata": {},
   "source": [
    "# Assignment 3"
   ]
  },
  {
   "cell_type": "markdown",
   "metadata": {},
   "source": [
    "# combining two list"
   ]
  },
  {
   "cell_type": "code",
   "execution_count": 10,
   "metadata": {
    "collapsed": true
   },
   "outputs": [],
   "source": [
    "def two_list(a , b ):\n",
    "    \n",
    "    c = []                                        \n",
    "    i = 0\n",
    "    j  =0\n",
    "    \n",
    "    while i <len(a) and j<len(b): \n",
    "        if a[i] < b[j]:\n",
    "            \n",
    "            c.append(a[i])\n",
    "            i = i +1\n",
    "        elif a[i] >= b[j]:\n",
    "            \n",
    "            c.append(b[j])\n",
    "            j = j +1\n",
    "    c = c + a[i:] + b[j:]\n",
    "    return c"
   ]
  },
  {
   "cell_type": "code",
   "execution_count": 12,
   "metadata": {},
   "outputs": [
    {
     "data": {
      "text/plain": [
       "[10, 20, 30, 40, 50, 60, 70, 80, 100]"
      ]
     },
     "execution_count": 12,
     "metadata": {},
     "output_type": "execute_result"
    }
   ],
   "source": [
    "two_list([10,30,50,70] , [20,40,60,80,100])"
   ]
  },
  {
   "cell_type": "code",
   "execution_count": null,
   "metadata": {},
   "outputs": [],
   "source": [
    "if __name__=='__main__':\n",
    "    from timeit import Timer\n",
    "    t = Timer(\"test()\", \"from __main__ import test\")\n",
    "    print t.timeit()"
   ]
  },
  {
   "cell_type": "code",
   "execution_count": 8,
   "metadata": {},
   "outputs": [
    {
     "name": "stdout",
     "output_type": "stream",
     "text": [
      "5.9999343149975175\n"
     ]
    }
   ],
   "source": [
    "def test():\n",
    "    \"Stupid test function\"\n",
    "    L = []\n",
    "    for i in range(100):\n",
    "        L.append(i)\n",
    "\n",
    "if __name__=='__main__':\n",
    "    from timeit import Timer\n",
    "    t = Timer(\"test()\", \"from __main__ import test\")\n",
    "    t = Timer(\"test()\", \"from __main__ import test\")\n",
    "    print (t.timeit())\n"
   ]
  },
  {
   "cell_type": "code",
   "execution_count": 4,
   "metadata": {},
   "outputs": [],
   "source": [
    "def recursive(list1 ,  list2):\n",
    "    \n",
    "    if list1 and list2:\n",
    "        if list1[0] > list2[0]:\n",
    "            list1, list2 = list2, list1\n",
    "        return [list1[0]] + recursive(list1[1:], list2)\n",
    "    return list1 + list2\n",
    "    "
   ]
  },
  {
   "cell_type": "code",
   "execution_count": 5,
   "metadata": {},
   "outputs": [
    {
     "data": {
      "text/plain": [
       "[1, 3, 4, 5, 6, 7, 8, 28, 90, 100, 111]"
      ]
     },
     "execution_count": 5,
     "metadata": {},
     "output_type": "execute_result"
    }
   ],
   "source": [
    "recursive([1,5,6,90,111] , [3,4,7,8,28,100])"
   ]
  },
  {
   "cell_type": "code",
   "execution_count": null,
   "metadata": {},
   "outputs": [],
   "source": []
  }
 ],
 "metadata": {
  "kernelspec": {
   "display_name": "Python 3",
   "language": "python",
   "name": "python3"
  },
  "language_info": {
   "codemirror_mode": {
    "name": "ipython",
    "version": 3
   },
   "file_extension": ".py",
   "mimetype": "text/x-python",
   "name": "python",
   "nbconvert_exporter": "python",
   "pygments_lexer": "ipython3",
   "version": "3.8.5"
  }
 },
 "nbformat": 4,
 "nbformat_minor": 4
}
